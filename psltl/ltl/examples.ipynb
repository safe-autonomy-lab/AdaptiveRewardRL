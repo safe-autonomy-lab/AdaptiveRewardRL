{
 "cells": [
  {
   "cell_type": "code",
   "execution_count": 177,
   "metadata": {},
   "outputs": [
    {
     "name": "stdout",
     "output_type": "stream",
     "text": [
      "[102, 101, 101, 215, 0]\n"
     ]
    }
   ],
   "source": [
    "import copy\n",
    "\n",
    "gamma = 0.9\n",
    "theta = 100\n",
    "eta = 0.1\n",
    "init_q = 0\n",
    "automaton_states = [0, 1, 2, 3, 4]\n",
    "org_dist_function = [2, 1, 1, 15, 0]\n",
    "total_timesteps = 25\n",
    "\n",
    "pi1 = [0] * 25\n",
    "pi2 = [0] * 20\n",
    "pi3 = [0] * 5\n",
    "\n",
    "pi1[9:] = [1] * len(pi1[9:]) # automaton state\n",
    "pi2[15: 19] = [2] * 4\n",
    "pi2[19] = 4\n",
    "pi3[4] = 3\n",
    "\n",
    "def get_reward(p1, p2, dist: list):\n",
    "    return max(max(dist[p1] - dist[p2], 0), max(org_dist_function[p1] - org_dist_function[p2], 0))\n",
    "\n",
    "def hybrid_rew(pi: list, dist, eta: float, verbose: bool = False):\n",
    "    totalReward = 0\n",
    "    reward = get_reward(init_q, pi[1], dist)\n",
    "    if reward > 0:\n",
    "        totalReward += reward * (1 - eta)\n",
    "    else:\n",
    "        totalReward += - dist[pi[0]] * eta\n",
    "    \n",
    "    if verbose:\n",
    "        print(0, dist[0], 0, totalReward)\n",
    "\n",
    "    for idx, i in enumerate(pi):\n",
    "        # start index 1\n",
    "        if idx > 0 and idx < len(pi) - 1 :\n",
    "            reward = get_reward(pi[idx - 1], pi[idx], dist)\n",
    "            reward = max(reward, 0)\n",
    "            # if reward > 0:\n",
    "            #     totalReward += gamma ** (idx + 1) * reward * (1 - eta)\n",
    "            # else:\n",
    "            #     # print(gamma ** (idx + 1) * - dist[i] * eta)\n",
    "            #     totalReward += gamma ** (idx + 1) * - dist[i] * eta\n",
    "\n",
    "            if reward > 0:\n",
    "                totalReward += gamma ** (idx ) * reward * (1 - eta)\n",
    "            else:\n",
    "                # print(gamma ** (idx + 1) * - dist[i] * eta)\n",
    "                totalReward += gamma ** (idx ) * - dist[pi[idx - 1]] * eta\n",
    "\n",
    "            if verbose:\n",
    "                print(idx, dist[i], i, totalReward)\n",
    "\n",
    "    # last_idx = (len(pi) - 1)\n",
    "    # reward = get_reward(pi[last_idx - 1], pi[last_idx], dist)\n",
    "    # reward = max(reward, 0)\n",
    "\n",
    "    # if reward > 0:\n",
    "    #     totalReward += gamma ** last_idx * reward * (1 - eta)\n",
    "    # else:\n",
    "    #     totalReward += gamma ** (last_idx) * - dist[pi[last_idx]] * eta\n",
    "    \n",
    "    # if verbose:\n",
    "    #     print(idx, dist[i], i, totalReward)\n",
    "\n",
    "    return totalReward\n",
    "\n",
    "\n",
    "dist_1 = copy.deepcopy(org_dist_function)\n",
    "dist_1[1] = 1 + theta\n",
    "dist_1[2] = 1 + theta\n",
    "dist_1[3] = 15 + theta\n",
    "\n",
    "dist_2 = copy.deepcopy(org_dist_function)\n",
    "dist_2[0] = 2 + theta\n",
    "dist_2[3] = 15 + theta\n",
    "eta_2 = eta / theta\n",
    "\n",
    "\n",
    "# theta = 200\n",
    "dist_3 = copy.deepcopy(dist_2)\n",
    "dist_3[1] = 1 + theta\n",
    "dist_3[2] = 1 + theta\n",
    "dist_3[3] = dist_2[3] + theta\n",
    "\n",
    "eta_3 = eta_2 / theta\n",
    "\n",
    "\n",
    "# dist_4 = copy.deepcopy(dist_3)\n",
    "# dist_3[1] = 1 + theta\n",
    "# dist_3[2] = 1 + theta\n",
    "# dist_3[3] = 15 + theta\n",
    "\n",
    "dist = dist_3\n",
    "eta = eta_3\n",
    "\n",
    "# eta = eta_2 / theta\n",
    "# dist = org_dist_function\n",
    "# eta = 0.1\n",
    "# eta = 0\n",
    "# verbose = False\n",
    "# print(\"dist\", dist)\n",
    "# t1 = hybrid_rew(pi1, dist, eta, verbose)\n",
    "# print(\"p1 policy\", t1)\n",
    "# t2 = hybrid_rew(pi2, dist, eta, verbose)\n",
    "# print(\"p2 policy\", t2)\n",
    "# t3 = hybrid_rew(pi3, dist, eta, verbose)\n",
    "# print(\"p3 policy\", t3)\n",
    "print(dist)"
   ]
  },
  {
   "cell_type": "code",
   "execution_count": 174,
   "metadata": {},
   "outputs": [
    {
     "name": "stdout",
     "output_type": "stream",
     "text": [
      "[0, 0, 0, 0, 0, 0, 0, 0, 0] 9\n",
      "[1, 1, 1, 1, 1, 1, 1, 1, 1, 1, 1, 1, 1, 1, 1, 1]\n"
     ]
    },
    {
     "data": {
      "text/plain": [
       "0.37837172850546885"
      ]
     },
     "execution_count": 174,
     "metadata": {},
     "output_type": "execute_result"
    }
   ],
   "source": [
    "x = [gamma ** i * -eta * dist[pi1[i]] for i in range(9) ]\n",
    "y = [gamma ** i * -eta * dist[pi1[i]] for i in range(10, 25) ]\n",
    "r = gamma ** 9 * (1 - eta) * get_reward(pi1[8], pi1[9], dist)\n",
    "pi = pi1\n",
    "print(pi[:9], len(pi[:9]))\n",
    "print(pi[9:])\n",
    "r + sum(x) + sum(y)"
   ]
  },
  {
   "cell_type": "code",
   "execution_count": 175,
   "metadata": {},
   "outputs": [
    {
     "data": {
      "text/plain": [
       "13.840747885048547"
      ]
     },
     "execution_count": 175,
     "metadata": {},
     "output_type": "execute_result"
    }
   ],
   "source": [
    "x = [gamma ** i * -eta * dist[pi2[i]] for i in range(15) ]\n",
    "y = [gamma ** i * -eta * dist[pi2[i]] for i in range(16, 19)]\n",
    "r = gamma ** 15 * (1 - eta) * get_reward(pi2[14], pi2[15], dist) + gamma ** 19 * (1 - eta) * get_reward(pi2[18], pi2[19], dist)\n",
    "r + sum(x) + sum(y)"
   ]
  },
  {
   "cell_type": "code",
   "execution_count": 176,
   "metadata": {},
   "outputs": [
    {
     "data": {
      "text/plain": [
       "-0.0035077800000000003"
      ]
     },
     "execution_count": 176,
     "metadata": {},
     "output_type": "execute_result"
    }
   ],
   "source": [
    "x = [gamma ** i * -eta * dist[pi3[i]] for i in range(4) ]\n",
    "\n",
    "sum(x)"
   ]
  },
  {
   "cell_type": "code",
   "execution_count": 146,
   "metadata": {},
   "outputs": [
    {
     "data": {
      "text/plain": [
       "-0.006878"
      ]
     },
     "execution_count": 146,
     "metadata": {},
     "output_type": "execute_result"
    }
   ],
   "source": [
    "38.4627399319777\n",
    "0.3242509817288005\n",
    "-0.006878"
   ]
  },
  {
   "cell_type": "code",
   "execution_count": null,
   "metadata": {},
   "outputs": [],
   "source": []
  },
  {
   "cell_type": "code",
   "execution_count": null,
   "metadata": {},
   "outputs": [],
   "source": []
  }
 ],
 "metadata": {
  "kernelspec": {
   "display_name": "Python 3",
   "language": "python",
   "name": "python3"
  },
  "language_info": {
   "codemirror_mode": {
    "name": "ipython",
    "version": 3
   },
   "file_extension": ".py",
   "mimetype": "text/x-python",
   "name": "python",
   "nbconvert_exporter": "python",
   "pygments_lexer": "ipython3",
   "version": "3.8.18"
  }
 },
 "nbformat": 4,
 "nbformat_minor": 2
}
