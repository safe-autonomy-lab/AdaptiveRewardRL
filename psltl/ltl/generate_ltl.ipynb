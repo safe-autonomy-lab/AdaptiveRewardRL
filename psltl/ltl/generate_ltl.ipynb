{
 "cells": [
  {
   "cell_type": "code",
   "execution_count": 5,
   "metadata": {},
   "outputs": [],
   "source": [
    "from psltl.ltl.partial_sat_atm import PartialSatATM\n",
    "import numpy as np\n",
    "from psltl.ltl.ltl_utils import save_atm\n",
    "from psltl.ltl.partial_sat_atm_load import LoadedPartialSatATM\n",
    "import os\n",
    "import sys\n",
    "sys.path.append(\"../\")"
   ]
  },
  {
   "cell_type": "code",
   "execution_count": 6,
   "metadata": {},
   "outputs": [
    {
     "name": "stdout",
     "output_type": "stream",
     "text": [
      "((\\neg  (y)) \\mathrm{U} (((o \\wedge ((\\neg y) \\mathrm{U}  (b)))) \\vee ((b \\wedge ((\\neg y) \\mathrm{U}  (o))))))\n"
     ]
    }
   ],
   "source": [
    "## Convert specification to latex\n",
    "task1 = \"((!b) & (!c) & (!d) & (!e) & (!f)) U a\"\n",
    "# green strict\n",
    "task2 = \"(((!c) & (!d) & (!e) & (!f)) U b)\"\n",
    "# then blue \n",
    "task3 = \"c\"\n",
    "# final ltl\n",
    "task = \"(\" + task1 + \") &  (\" + task2 + \" & F(\" + task3 + \"))\"\n",
    "task = \"(G(!(n)) & (F((f & F(e & (F(g))))) | F((e & F(f & (F(g)))))))\"\n",
    "task = \"((! (y)) U (((o & ((!y) U  (b)))) | ((b & ((!y) U  (o))))))\"\n",
    "task = task.replace(\"->\", \"\\\\rightarrow\")\n",
    "task = task.replace(\"G\", \"\\square\")\n",
    "task = task.replace(\"U\", \"\\mathrm{U}\")\n",
    "task = task.replace(\"!\", \"\\\\neg \")\n",
    "task = task.replace(\"F\", \"\\diamond\")\n",
    "task = task.replace(\"&\", \"\\wedge\")\n",
    "task = task.replace(\"|\", \"\\\\vee\")\n",
    "print(task)"
   ]
  },
  {
   "cell_type": "code",
   "execution_count": 8,
   "metadata": {},
   "outputs": [
    {
     "name": "stdout",
     "output_type": "stream",
     "text": [
      "===========================================================================\n",
      "LTL specifiations:  G(!p -> !d) & (F(p & F(l & F (g)))) & G((d & p) -> g)\n",
      "Atomic propositions:  {'g', 'l', 'd', 'p'}\n",
      "Number of states:  5\n",
      "States:  {0, 1, 2, 3, 4}\n",
      "Acceptance set:  {3}\n",
      "Trapping set:  {4}\n",
      "Distance function:  {3: 0, 0: 3.0, 1: 2.415037499278844, 2: 1.4150374992788437, 4: 20}\n",
      "===========================================================================\n",
      "26.830074998557688\n"
     ]
    }
   ],
   "source": [
    "import os\n",
    "import sys\n",
    "lydia_dir = os.path.join(os.getcwd(), '/home/default')\n",
    "sys.path.append(lydia_dir)\n",
    "# -v$(pwd):/home/default whitemech/lydia lydia\n",
    "# TAXI\n",
    "# \"f\": fail exceeding the number fo chances to select action 4 or 5\n",
    "# \"g\": success, reaching the goal state (drop off passenger in a proper place)\n",
    "# \"d\": drop passenger only when the taxi picks up the passenger\n",
    "# \"p\": pick up the passenger\n",
    "\n",
    "AP = ['g', 'p', 'd', 'l']\n",
    "task = \"G(!p -> !d) & (F(p & F(l & F (g)))) & G((d & p) -> g)\"\n",
    "\n",
    "save_delta_path = \"./ltl_infos/taxi/delta.pkl\"\n",
    "save_info_path = \"./ltl_infos/taxi/info.pkl\"\n",
    "\n",
    "atm = PartialSatATM(task, AP)\n",
    "atm.print_results()\n",
    "atm.distances\n",
    "print(sum(atm.distances.values()))\n",
    "# save_atm(atm, save_info_path, save_delta_path)\n",
    "# graph = atm.dfa.to_graphviz()\n",
    "# graph.render(directory='stateDiagrams', view=True)  "
   ]
  },
  {
   "cell_type": "markdown",
   "metadata": {},
   "source": [
    "## For LTL Water World"
   ]
  },
  {
   "cell_type": "code",
   "execution_count": 9,
   "metadata": {},
   "outputs": [
    {
     "name": "stdout",
     "output_type": "stream",
     "text": [
      "===========================================================================\n",
      "LTL specifiations:  (((!b) & (!c) & (!d) & (!e) & (!f)) U a) &  ((((!c) & (!d) & (!e) & (!f)) U b) & F(c))\n",
      "Atomic propositions:  {'e', 'a', 'd', 'c', 'b', 'f'}\n",
      "Number of states:  5\n",
      "States:  {0, 1, 2, 3, 4}\n",
      "Acceptance set:  {4}\n",
      "Trapping set:  {1}\n",
      "Distance function:  {4: 0, 0: 3.0, 1: 30, 2: 2.0, 3: 1.0}\n",
      "===========================================================================\n",
      "36.0\n"
     ]
    }
   ],
   "source": [
    "from psltl.ltl.partial_sat_atm import PartialSatATM\n",
    "import numpy as np\n",
    "from psltl.ltl.ltl_utils import save_atm\n",
    "from psltl.ltl.partial_sat_atm_load import LoadedPartialSatATM\n",
    "import os\n",
    "import sys\n",
    "\n",
    "sys.path.append(\"../\")\n",
    "\n",
    "# colors[\"a\"] = (255,0,0) # red\n",
    "# colors[\"b\"] = (0,255,0) # green\n",
    "# colors[\"c\"] = (0,0,255) # blue\n",
    "# colors[\"d\"] = (255,255,0) # yellow\n",
    "# colors[\"e\"] = (0,255,255) # cyan\n",
    "# colors[\"f\"] = (255,0,255) # magenta\n",
    "\n",
    "# red strict (a), green strict (b), blue (c) <- task\n",
    "\n",
    "AP = ['a', 'b', 'c', 'd', 'e', 'f']\n",
    "# red strict\n",
    "task1 = \"((!b) & (!c) & (!d) & (!e) & (!f)) U a\"\n",
    "# green strict\n",
    "task2 = \"(((!c) & (!d) & (!e) & (!f)) U b)\"\n",
    "# then blue \n",
    "task3 = \"c\"\n",
    "# final ltl\n",
    "ltl = \"(\" + task1 + \") &  (\" + task2 + \" & F(\" + task3 + \"))\"\n",
    "\n",
    "save_delta_path = \"./ltl_infos/water/delta.pkl\"\n",
    "save_info_path = \"./ltl_infos/water/info.pkl\"\n",
    "\n",
    "atm = PartialSatATM(ltl, AP)\n",
    "atm.print_results()\n",
    "atm.distances\n",
    "print(sum(atm.distances.values()))\n",
    "# save_atm(atm, save_info_path, save_delta_path)\n",
    "# graph = atm.dfa.to_graphviz()\n",
    "# graph.render(directory='stateDiagrams', view=True)  "
   ]
  },
  {
   "cell_type": "code",
   "execution_count": 17,
   "metadata": {},
   "outputs": [],
   "source": [
    "atm = LoadedPartialSatATM(save_info_path, save_delta_path)"
   ]
  },
  {
   "cell_type": "markdown",
   "metadata": {},
   "source": [
    "## For Office WOrld"
   ]
  },
  {
   "cell_type": "code",
   "execution_count": 11,
   "metadata": {},
   "outputs": [
    {
     "name": "stdout",
     "output_type": "stream",
     "text": [
      "===========================================================================\n",
      "LTL specifiations:  (G(!(n)) & (F((f & F(e & (F(g))))) | F((e & F(f & (F(g)))))))\n",
      "Atomic propositions:  {'e', 'g', 'n', 'f'}\n",
      "Number of states:  6\n",
      "States:  {0, 1, 2, 3, 4, 5}\n",
      "Acceptance set:  {5}\n",
      "Trapping set:  {1}\n",
      "Distance function:  {5: 0, 0: 4.0, 1: 24, 2: 3.0, 3: 3.0, 4: 2.0}\n",
      "===========================================================================\n",
      "36.0\n"
     ]
    }
   ],
   "source": [
    "# get coffee, and mail (in any order), then visit office without breaking decorations\n",
    "AP = ['n', 'f', 'g', 'e']\n",
    "ltl = \"(G(!(n)) & (F((f & F(e & (F(g))))) | F((e & F(f & (F(g)))))))\"\n",
    "\n",
    "save_delta_path = \"./ltl_infos/office/delta.pkl\"\n",
    "save_info_path = \"./ltl_infos/office/info.pkl\"\n",
    "\n",
    "# atm = PartialSatATM(task_4, AP_4)\n",
    "atm = PartialSatATM(ltl, AP)\n",
    "atm.print_results()\n",
    "atm.distances\n",
    "print(sum(atm.distances.values()))\n",
    "# save_atm(atm, save_info_path, save_delta_path)\n",
    "# graph = atm.dfa.to_graphviz()\n",
    "# atm.dfa.minimize()\n",
    "# graph.render(directory='stateDiagrams', view=True)  "
   ]
  },
  {
   "cell_type": "code",
   "execution_count": 12,
   "metadata": {},
   "outputs": [],
   "source": [
    "atm = LoadedPartialSatATM(info_path=save_info_path, delta_path=save_delta_path)"
   ]
  },
  {
   "cell_type": "code",
   "execution_count": 13,
   "metadata": {},
   "outputs": [
    {
     "name": "stdout",
     "output_type": "stream",
     "text": [
      "===========================================================================\n",
      "LTL specifiations:  (G(!(n)) & (F((f & F(e & (F(g))))) | F((e & F(f & (F(g)))))))\n",
      "Atomic propositions:  {'e', 'g', 'n', 'f'}\n",
      "Number of states:  6\n",
      "States:  {0, 1, 2, 3, 4, 5}\n",
      "Acceptance set:  {5}\n",
      "Trapping set:  {1}\n",
      "Distance function:  {5: 0, 0: 4.0, 1: 24, 2: 3.0, 3: 3.0, 4: 2.0}\n",
      "===========================================================================\n"
     ]
    }
   ],
   "source": [
    "atm.print_results(delta=False)"
   ]
  },
  {
   "cell_type": "markdown",
   "metadata": {},
   "source": [
    "## For Cheetah Mujoco Env"
   ]
  },
  {
   "cell_type": "code",
   "execution_count": 14,
   "metadata": {},
   "outputs": [
    {
     "name": "stdout",
     "output_type": "stream",
     "text": [
      "===========================================================================\n",
      "LTL specifiations:  F(c & F(e & F(f & F(g & F(a)))))\n",
      "Atomic propositions:  {'e', 'a', 'g', 'c', 'f'}\n",
      "Number of states:  6\n",
      "States:  {0, 1, 2, 3, 4, 5}\n",
      "Acceptance set:  {5}\n",
      "Trapping set:  set()\n",
      "Distance function:  {5: 0, 0: 5.0, 1: 4.0, 2: 3.0, 3: 2.0, 4: 1.0}\n",
      "===========================================================================\n",
      "15.0\n"
     ]
    },
    {
     "data": {
      "text/plain": [
       "'stateDiagrams/Digraph.gv.svg'"
      ]
     },
     "execution_count": 14,
     "metadata": {},
     "output_type": "execute_result"
    }
   ],
   "source": [
    "AP = ['a', 'c', 'e', 'f', 'g']\n",
    "# c, e, f, g, a, go right, a is the furthest from the origin to the right\n",
    "# The task is to reach 'a'\n",
    "\n",
    "ltl = \"F(c & F(e & F(f & F(g & F(a)))))\"\n",
    "\n",
    "save_delta_path = \"./ltl_infos/cheetah/delta.pkl\"\n",
    "save_info_path = \"./ltl_infos/cheetah/info.pkl\"\n",
    "\n",
    "atm = PartialSatATM(ltl, AP)\n",
    "atm.print_results()\n",
    "print(sum(atm.distances.values()))\n",
    "# save_atm(atm, save_info_path, save_delta_path)\n",
    "graph = atm.dfa.to_graphviz()\n",
    "graph.render(directory='stateDiagrams', view=True)  "
   ]
  },
  {
   "cell_type": "code",
   "execution_count": 15,
   "metadata": {},
   "outputs": [],
   "source": [
    "atm = LoadedPartialSatATM(save_info_path, save_delta_path)"
   ]
  },
  {
   "cell_type": "markdown",
   "metadata": {},
   "source": []
  },
  {
   "cell_type": "markdown",
   "metadata": {},
   "source": [
    "## Toy ENv"
   ]
  },
  {
   "cell_type": "code",
   "execution_count": 16,
   "metadata": {},
   "outputs": [
    {
     "name": "stdout",
     "output_type": "stream",
     "text": [
      "===========================================================================\n",
      "LTL specifiations:  ((! (y)) U (((o & ((!y) U  (b)))) | ((b & ((!y) U  (o))))))\n",
      "Atomic propositions:  {'b', 'y', 'o'}\n",
      "Number of states:  5\n",
      "States:  {0, 1, 2, 3, 4}\n",
      "Acceptance set:  {4}\n",
      "Trapping set:  {1}\n",
      "Distance function:  {4: 0, 0: 2.0, 1: 15, 2: 1.0, 3: 1.0}\n",
      "===========================================================================\n",
      "19.0\n"
     ]
    }
   ],
   "source": [
    "AP = ['y', 'o', 'b']\n",
    "# ltl = \"((! y) U (o & F (b))) | ((! y) U (b & F (o)))\"\n",
    "ltl = \"((! (y)) U (((o & ((!y) U  (b)))) | ((b & ((!y) U  (o))))))\"\n",
    "\n",
    "atm = PartialSatATM(ltl, AP)\n",
    "atm.print_results()\n",
    "atm.dfa.to_graphviz()\n",
    "\n",
    "save_delta_path = \"./ltl_infos/toy/delta.pkl\"\n",
    "save_info_path = \"./ltl_infos/toy/info.pkl\"\n",
    "print(sum(atm.distances.values()))\n",
    "# save_atm(atm, save_info_path, save_delta_path)\n",
    "# graph = atm.dfa.to_graphviz()\n",
    "# graph.render(directory='doctest-output', view=True)  "
   ]
  }
 ],
 "metadata": {
  "kernelspec": {
   "display_name": "Python 3 (ipykernel)",
   "language": "python",
   "name": "python3"
  },
  "language_info": {
   "codemirror_mode": {
    "name": "ipython",
    "version": 3
   },
   "file_extension": ".py",
   "mimetype": "text/x-python",
   "name": "python",
   "nbconvert_exporter": "python",
   "pygments_lexer": "ipython3",
   "version": "3.8.0"
  },
  "vscode": {
   "interpreter": {
    "hash": "3172a45a45c8969dfe3e8949beb5d2165c0af0ddd2a40b3658a4045acb5fc711"
   }
  }
 },
 "nbformat": 4,
 "nbformat_minor": 4
}
